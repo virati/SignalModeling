{
 "cells": [
  {
   "cell_type": "markdown",
   "metadata": {},
   "source": [
    "# Overview of Linear Regression and Sparsity\n",
    "\n",
    "Let's set up a simple model where, out of 1000 variables, only 6 are used to generate a data set with a given set of coefficients"
   ]
  },
  {
   "cell_type": "code",
   "execution_count": 34,
   "metadata": {
    "collapsed": false
   },
   "outputs": [
    {
     "name": "stdout",
     "output_type": "stream",
     "text": [
      "Once deleted, variables cannot be recovered. Proceed (y/[n])? y\n"
     ]
    }
   ],
   "source": [
    "%reset\n",
    "\n",
    "import numpy as np\n",
    "import scipy.signal as sig\n",
    "import matplotlib.pyplot as plt\n",
    "\n",
    "f_dim = 1000\n",
    "\n",
    "b_star = np.zeros((f_dim,1))\n",
    "cflist = [2,7,54,455,346,987]\n",
    "cfval = [14,-23,18,29,-45,-12]\n",
    "\n",
    "for cc,cfn in enumerate(cflist):\n",
    "    b_star[cfn] = cfval[cc] #this is undoubtedly unpythonic...\n",
    "\n",
    "x = np.random.uniform(-100,100,size=(1000,30)) #30 observations of a 1000 dimensional state\n",
    "\n",
    "Y = np.dot(b_star.T,x)\n",
    "#Now we have our observations and our states\n",
    "\n",
    "#add some noise to both\n",
    "\n",
    "x = x + np.random.normal(0,1,size=(1000,30))\n",
    "Y = Y + np.random.normal(0,1,size=(1,30))\n"
   ]
  },
  {
   "cell_type": "markdown",
   "metadata": {},
   "source": [
    "We have our observations with some noise added on"
   ]
  },
  {
   "cell_type": "code",
   "execution_count": 52,
   "metadata": {
    "collapsed": false
   },
   "outputs": [
    {
     "name": "stdout",
     "output_type": "stream",
     "text": [
      "(1, 1000)\n"
     ]
    },
    {
     "data": {
      "image/png": "[encoded data removed]",
      "text/plain": [
       "<matplotlib.figure.Figure at 0x7f73a266bba8>"
      ]
     },
     "metadata": {},
     "output_type": "display_data"
    }
   ],
   "source": [
    "#now we do a OLS regression\n",
    "from sklearn import linear_model\n",
    "\n",
    "clf = linear_model.Lasso(alpha=1)\n",
    "clf.fit(x.T,Y.T)\n",
    "\n",
    "clin = linear_model.LinearRegression()\n",
    "clin.fit(x.T,Y.T)\n",
    "\n",
    "print(clin.coef_.shape)\n",
    "plt.plot(clf.coef_,color='b')\n",
    "plt.plot(clin.coef_[0,:],color='g')\n",
    "#plt.plot(b_star,color='r')\n",
    "plt.show()"
   ]
  }
 ],
 "metadata": {
  "kernelspec": {
   "display_name": "Python 3",
   "language": "python",
   "name": "python3"
  },
  "language_info": {
   "codemirror_mode": {
    "name": "ipython",
    "version": 3
   },
   "file_extension": ".py",
   "mimetype": "text/x-python",
   "name": "python",
   "nbconvert_exporter": "python",
   "pygments_lexer": "ipython3",
   "version": "3.6.0"
  }
 },
 "nbformat": 4,
 "nbformat_minor": 2
}
